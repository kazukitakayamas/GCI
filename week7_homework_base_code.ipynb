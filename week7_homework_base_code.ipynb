{
 "cells": [
  {
   "cell_type": "code",
   "execution_count": null,
   "id": "ee43585d-a99a-4fc4-b725-a80cb3c57865",
   "metadata": {},
   "outputs": [],
   "source": [
    "'''\n",
    "week7 (6月7日授業の宿題) 2023/11/05 15:00\n",
    "'''\n",
    "import os\n",
    "import numpy as np\n",
    "import pandas as pd\n",
    "from sklearn.metrics import mean_squared_error\n",
    "\n",
    "ANSWER_PATH = \"answer.csv\"\n",
    "SUBMISSION_PATH = os.environ[\"USERSUBMISSION\"]\n",
    "\n",
    "print('この「採点結果の出力」の最終行に1が出力されており、採点結果点数に1が表示されている場合は正解です。')\n",
    "\n",
    "def scoring():\n",
    "    cur_dir = os.path.dirname(__file__)\n",
    "    answer_path = os.path.join(cur_dir, ANSWER_PATH)\n",
    "\n",
    "    answer = pd.read_csv(answer_path).sort_values('goods_genre_id')\n",
    "    submission = pd.read_csv(SUBMISSION_PATH).sort_values('goods_genre_id')\n",
    "\n",
    "    if len(answer) != len(submission):\n",
    "        print(\"Data format does not match\")\n",
    "        return 1000\n",
    "    \n",
    "    mse = mean_squared_error(answer[\"avg_price\"],submission[\"avg_price\"])\n",
    "    \n",
    "    if mse < 0.1:\n",
    "        score = 1\n",
    "    else:\n",
    "        score = 0\n",
    "    \n",
    "    return score\n",
    "\n",
    "if __name__ == '__main__':\n",
    "    print(scoring())"
   ]
  }
 ],
 "metadata": {
  "kernelspec": {
   "display_name": "Python 3 (ipykernel)",
   "language": "python",
   "name": "python3"
  },
  "language_info": {
   "codemirror_mode": {
    "name": "ipython",
    "version": 3
   },
   "file_extension": ".py",
   "mimetype": "text/x-python",
   "name": "python",
   "nbconvert_exporter": "python",
   "pygments_lexer": "ipython3",
   "version": "3.8.10"
  }
 },
 "nbformat": 4,
 "nbformat_minor": 5
}
